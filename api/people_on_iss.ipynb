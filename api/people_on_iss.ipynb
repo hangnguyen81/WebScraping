{
 "metadata": {
  "language_info": {
   "codemirror_mode": {
    "name": "ipython",
    "version": 3
   },
   "file_extension": ".py",
   "mimetype": "text/x-python",
   "name": "python",
   "nbconvert_exporter": "python",
   "pygments_lexer": "ipython3",
   "version": "3.9.1"
  },
  "orig_nbformat": 2,
  "kernelspec": {
   "name": "pythonjvsc74a57bd011ad6c238301872052010cc82dbf7698f6373f378366d880c52493d75d3c8c50",
   "display_name": "Python 3.9.1  ('venv-webscraping-3.9': venv)"
  },
  "metadata": {
   "interpreter": {
    "hash": "11ad6c238301872052010cc82dbf7698f6373f378366d880c52493d75d3c8c50"
   }
  }
 },
 "nbformat": 4,
 "nbformat_minor": 2,
 "cells": [
  {
   "source": [
    "## How Many People Currently Are In Space\n",
    "Using an API, let us find out who currently are on the International Space Station (ISS).\n",
    "The API at http://api.open-notify.org/astros.json gives us the information of astronauts currently on ISS in json format.\n",
    "You can read more about this API at http://open-notify.org/Open-Notify-API/People-In-Space/"
   ],
   "cell_type": "markdown",
   "metadata": {}
  },
  {
   "cell_type": "code",
   "execution_count": 1,
   "metadata": {},
   "outputs": [],
   "source": [
    "import requests\n",
    "iss_url = 'http://api.open-notify.org/astros.json'\n",
    "response = requests.get(iss_url)"
   ]
  },
  {
   "cell_type": "code",
   "execution_count": 3,
   "metadata": {},
   "outputs": [
    {
     "output_type": "execute_result",
     "data": {
      "text/plain": [
       "200"
      ]
     },
     "metadata": {},
     "execution_count": 3
    }
   ],
   "source": [
    "response.status_code"
   ]
  },
  {
   "cell_type": "code",
   "execution_count": 10,
   "metadata": {},
   "outputs": [
    {
     "output_type": "execute_result",
     "data": {
      "text/plain": [
       "'{\"message\": \"success\", \"number\": 11, \"people\": [{\"name\": \"Mike Hopkins\", \"craft\": \"ISS\"}, {\"name\": \"Victor Glover\", \"craft\": \"ISS\"}, {\"name\": \"Shannon Walker\", \"craft\": \"ISS\"}, {\"name\": \"Soichi Noguchi\", \"craft\": \"ISS\"}, {\"name\": \"Mark Vande Hei\", \"craft\": \"ISS\"}, {\"name\": \"Oleg Novitskiy\", \"craft\": \"ISS\"}, {\"name\": \"Pyotr Dubrov\", \"craft\": \"ISS\"}, {\"name\": \"Thomas Pesquet\", \"craft\": \"ISS\"}, {\"name\": \"Megan McArthur\", \"craft\": \"ISS\"}, {\"name\": \"Shane Kimbrough\", \"craft\": \"ISS\"}, {\"name\": \"Akihiko Hoshide\", \"craft\": \"ISS\"}]}'"
      ]
     },
     "metadata": {},
     "execution_count": 10
    }
   ],
   "source": [
    "response.text"
   ]
  },
  {
   "cell_type": "code",
   "execution_count": 15,
   "metadata": {},
   "outputs": [],
   "source": [
    "if response.ok:\n",
    "    data = response.json()"
   ]
  },
  {
   "cell_type": "code",
   "execution_count": 16,
   "metadata": {},
   "outputs": [
    {
     "output_type": "stream",
     "name": "stdout",
     "text": [
      "11\n"
     ]
    }
   ],
   "source": [
    "# check how many people on ISS now\n",
    "print(data.get('number'))"
   ]
  },
  {
   "cell_type": "code",
   "execution_count": 17,
   "metadata": {},
   "outputs": [
    {
     "output_type": "stream",
     "name": "stdout",
     "text": [
      "[{'name': 'Mike Hopkins', 'craft': 'ISS'}, {'name': 'Victor Glover', 'craft': 'ISS'}, {'name': 'Shannon Walker', 'craft': 'ISS'}, {'name': 'Soichi Noguchi', 'craft': 'ISS'}, {'name': 'Mark Vande Hei', 'craft': 'ISS'}, {'name': 'Oleg Novitskiy', 'craft': 'ISS'}, {'name': 'Pyotr Dubrov', 'craft': 'ISS'}, {'name': 'Thomas Pesquet', 'craft': 'ISS'}, {'name': 'Megan McArthur', 'craft': 'ISS'}, {'name': 'Shane Kimbrough', 'craft': 'ISS'}, {'name': 'Akihiko Hoshide', 'craft': 'ISS'}]\n"
     ]
    }
   ],
   "source": [
    "print(data.get('people'))"
   ]
  },
  {
   "cell_type": "code",
   "execution_count": 20,
   "metadata": {},
   "outputs": [
    {
     "output_type": "stream",
     "name": "stdout",
     "text": [
      "There are 11 astronauts on ISS\nTheir infor are:\nName: Mike Hopkins\nCraft: ISS\nName: Victor Glover\nCraft: ISS\nName: Shannon Walker\nCraft: ISS\nName: Soichi Noguchi\nCraft: ISS\nName: Mark Vande Hei\nCraft: ISS\nName: Oleg Novitskiy\nCraft: ISS\nName: Pyotr Dubrov\nCraft: ISS\nName: Thomas Pesquet\nCraft: ISS\nName: Megan McArthur\nCraft: ISS\nName: Shane Kimbrough\nCraft: ISS\nName: Akihiko Hoshide\nCraft: ISS\n"
     ]
    }
   ],
   "source": [
    "# print out info of astronauts \n",
    "astronauts = data.get('people')\n",
    "print(\"There are {} astronauts on ISS\".format(len(astronauts)))\n",
    "print('Their information')\n",
    "for astronaut in astronauts:\n",
    "    print('Name:', astronaut.get('name'))\n",
    "    print('Craft:', astronaut.get('craft'))"
   ]
  }
 ]
}