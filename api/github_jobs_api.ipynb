{
 "metadata": {
  "language_info": {
   "codemirror_mode": {
    "name": "ipython",
    "version": 3
   },
   "file_extension": ".py",
   "mimetype": "text/x-python",
   "name": "python",
   "nbconvert_exporter": "python",
   "pygments_lexer": "ipython3",
   "version": "3.9.1"
  },
  "orig_nbformat": 2,
  "kernelspec": {
   "name": "pythonjvsc74a57bd011ad6c238301872052010cc82dbf7698f6373f378366d880c52493d75d3c8c50",
   "display_name": "Python 3.9.1  ('venv-webscraping-3.9': venv)"
  },
  "metadata": {
   "interpreter": {
    "hash": "11ad6c238301872052010cc82dbf7698f6373f378366d880c52493d75d3c8c50"
   }
  }
 },
 "nbformat": 4,
 "nbformat_minor": 2,
 "cells": [
  {
   "source": [
    "# Collect Jobs Data using GitHub Jobs API"
   ],
   "cell_type": "markdown",
   "metadata": {}
  },
  {
   "cell_type": "code",
   "execution_count": 41,
   "metadata": {},
   "outputs": [],
   "source": [
    "import pandas as pd\n",
    "import requests\n",
    "import json"
   ]
  },
  {
   "source": [
    "## Objective: Determine the number of jobs currently open for various technologies\n",
    "Collect the number of job postings for the following languages using the API:\n",
    "\n",
    "* C\n",
    "* C#\n",
    "* C++\n",
    "* Java\n",
    "* JavaScript\n",
    "* Python\n",
    "* Scala\n",
    "* Oracle\n",
    "* SQL Server\n",
    "* MySQL Server\n",
    "* PostgreSQL\n",
    "* MongoDB"
   ],
   "cell_type": "markdown",
   "metadata": {}
  },
  {
   "cell_type": "code",
   "execution_count": 33,
   "metadata": {},
   "outputs": [],
   "source": [
    "# Write a function to get the number of jobs for the given technology.\n",
    "#Note: The API gives a maximum of 50 jobs per page.\n",
    "#If you get 50 jobs per page, it means there could be some more job listings available.\n",
    "#So if you get 50 jobs per page you should make another API call for next page to check for more jobs.\n",
    "#If you get less than 50 jobs per page, you can take it as the final count.\n",
    "baseurl = \"https://jobs.github.com/positions.json\"\n",
    "\n",
    "def get_number_of_jobs(technology):\n",
    "    \n",
    "    number_of_jobs = 0\n",
    "    page = 0\n",
    "    job_count = 0\n",
    "    search_full = False\n",
    "\n",
    "    while search_full == False:\n",
    "        url = baseurl +'?description={}'.format(technology) + '&page={}'.format(page)\n",
    "        response = requests.get(url)\n",
    "        if response.ok:\n",
    "            data = response.json()\n",
    "            number_of_jobs = number_of_jobs + len(data)\n",
    "            job_count = len(data)\n",
    "            if job_count == 50:\n",
    "                page = page + 1\n",
    "                search_full = False\n",
    "            else:\n",
    "                search_full = True\n",
    "    return technology,number_of_jobs"
   ]
  },
  {
   "cell_type": "code",
   "execution_count": 35,
   "metadata": {},
   "outputs": [],
   "source": [
    "#test the function get_number_of_jobs()\n",
    "technology = 'Python'\n",
    "get_number_of_jobs(technology)"
   ]
  },
  {
   "cell_type": "code",
   "execution_count": 39,
   "metadata": {},
   "outputs": [],
   "source": [
    "# list of technologies\n",
    "technologies = ['C','C%23', 'C++','Java','JavaScript','Python','Scala','Oracle','SQL Server','MySQL Server','PostgreSQL','MongoDB']\n",
    "#an empty list, will contain Name of tech and number of jobs for this tech\n",
    "num_jobs_tech = []\n",
    "# Use C%23 inplace of C# in the coding and you will be surprised the output will come as C#  job numbers\n",
    "for tech in technologies:\n",
    "    # initial dict named cell\n",
    "    cell = {}\n",
    "    # get data    \n",
    "    result=get_number_of_jobs(tech)\n",
    "    # put data into dict\n",
    "    cell['Technology'] = result[0]\n",
    "    cell['Numbers_Job_Ad'] = result[1]\n",
    "    # add cell to list\n",
    "    num_jobs_tech.append(cell)"
   ]
  },
  {
   "cell_type": "code",
   "execution_count": 42,
   "metadata": {},
   "outputs": [
    {
     "output_type": "execute_result",
     "data": {
      "text/plain": [
       "      Technology  Numbers_Job_Ad\n",
       "0              C             268\n",
       "1           C%23              29\n",
       "2            C++             268\n",
       "3           Java             149\n",
       "4     JavaScript             124\n",
       "5         Python             109\n",
       "6          Scala             106\n",
       "7         Oracle               9\n",
       "8     SQL Server              22\n",
       "9   MySQL Server               7\n",
       "10    PostgreSQL              12\n",
       "11       MongoDB              10"
      ],
      "text/html": "<div>\n<style scoped>\n    .dataframe tbody tr th:only-of-type {\n        vertical-align: middle;\n    }\n\n    .dataframe tbody tr th {\n        vertical-align: top;\n    }\n\n    .dataframe thead th {\n        text-align: right;\n    }\n</style>\n<table border=\"1\" class=\"dataframe\">\n  <thead>\n    <tr style=\"text-align: right;\">\n      <th></th>\n      <th>Technology</th>\n      <th>Numbers_Job_Ad</th>\n    </tr>\n  </thead>\n  <tbody>\n    <tr>\n      <th>0</th>\n      <td>C</td>\n      <td>268</td>\n    </tr>\n    <tr>\n      <th>1</th>\n      <td>C%23</td>\n      <td>29</td>\n    </tr>\n    <tr>\n      <th>2</th>\n      <td>C++</td>\n      <td>268</td>\n    </tr>\n    <tr>\n      <th>3</th>\n      <td>Java</td>\n      <td>149</td>\n    </tr>\n    <tr>\n      <th>4</th>\n      <td>JavaScript</td>\n      <td>124</td>\n    </tr>\n    <tr>\n      <th>5</th>\n      <td>Python</td>\n      <td>109</td>\n    </tr>\n    <tr>\n      <th>6</th>\n      <td>Scala</td>\n      <td>106</td>\n    </tr>\n    <tr>\n      <th>7</th>\n      <td>Oracle</td>\n      <td>9</td>\n    </tr>\n    <tr>\n      <th>8</th>\n      <td>SQL Server</td>\n      <td>22</td>\n    </tr>\n    <tr>\n      <th>9</th>\n      <td>MySQL Server</td>\n      <td>7</td>\n    </tr>\n    <tr>\n      <th>10</th>\n      <td>PostgreSQL</td>\n      <td>12</td>\n    </tr>\n    <tr>\n      <th>11</th>\n      <td>MongoDB</td>\n      <td>10</td>\n    </tr>\n  </tbody>\n</table>\n</div>"
     },
     "metadata": {},
     "execution_count": 42
    }
   ],
   "source": [
    "df_num_jobs_tech = pd.DataFrame(num_jobs_tech) \n",
    "df_num_jobs_tech"
   ]
  },
  {
   "cell_type": "code",
   "execution_count": 44,
   "metadata": {},
   "outputs": [],
   "source": [
    "# change C%23 to C#\n",
    "df_num_jobs_tech.loc[1,'Technology'] = 'C#'"
   ]
  },
  {
   "cell_type": "code",
   "execution_count": 45,
   "metadata": {},
   "outputs": [
    {
     "output_type": "execute_result",
     "data": {
      "text/plain": [
       "      Technology  Numbers_Job_Ad\n",
       "0              C             268\n",
       "1             C#              29\n",
       "2            C++             268\n",
       "3           Java             149\n",
       "4     JavaScript             124\n",
       "5         Python             109\n",
       "6          Scala             106\n",
       "7         Oracle               9\n",
       "8     SQL Server              22\n",
       "9   MySQL Server               7\n",
       "10    PostgreSQL              12\n",
       "11       MongoDB              10"
      ],
      "text/html": "<div>\n<style scoped>\n    .dataframe tbody tr th:only-of-type {\n        vertical-align: middle;\n    }\n\n    .dataframe tbody tr th {\n        vertical-align: top;\n    }\n\n    .dataframe thead th {\n        text-align: right;\n    }\n</style>\n<table border=\"1\" class=\"dataframe\">\n  <thead>\n    <tr style=\"text-align: right;\">\n      <th></th>\n      <th>Technology</th>\n      <th>Numbers_Job_Ad</th>\n    </tr>\n  </thead>\n  <tbody>\n    <tr>\n      <th>0</th>\n      <td>C</td>\n      <td>268</td>\n    </tr>\n    <tr>\n      <th>1</th>\n      <td>C#</td>\n      <td>29</td>\n    </tr>\n    <tr>\n      <th>2</th>\n      <td>C++</td>\n      <td>268</td>\n    </tr>\n    <tr>\n      <th>3</th>\n      <td>Java</td>\n      <td>149</td>\n    </tr>\n    <tr>\n      <th>4</th>\n      <td>JavaScript</td>\n      <td>124</td>\n    </tr>\n    <tr>\n      <th>5</th>\n      <td>Python</td>\n      <td>109</td>\n    </tr>\n    <tr>\n      <th>6</th>\n      <td>Scala</td>\n      <td>106</td>\n    </tr>\n    <tr>\n      <th>7</th>\n      <td>Oracle</td>\n      <td>9</td>\n    </tr>\n    <tr>\n      <th>8</th>\n      <td>SQL Server</td>\n      <td>22</td>\n    </tr>\n    <tr>\n      <th>9</th>\n      <td>MySQL Server</td>\n      <td>7</td>\n    </tr>\n    <tr>\n      <th>10</th>\n      <td>PostgreSQL</td>\n      <td>12</td>\n    </tr>\n    <tr>\n      <th>11</th>\n      <td>MongoDB</td>\n      <td>10</td>\n    </tr>\n  </tbody>\n</table>\n</div>"
     },
     "metadata": {},
     "execution_count": 45
    }
   ],
   "source": [
    "df_num_jobs_tech"
   ]
  },
  {
   "cell_type": "code",
   "execution_count": 47,
   "metadata": {},
   "outputs": [],
   "source": [
    "# save to excel file\n",
    "# if you have install openpyxl module for handle xlsx file, pleas do it pip install openpyxl\n",
    "df_num_jobs_tech.to_excel('github-job-postings.xlsx')"
   ]
  }
 ]
}