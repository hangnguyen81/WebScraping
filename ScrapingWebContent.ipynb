{
 "metadata": {
  "language_info": {
   "codemirror_mode": {
    "name": "ipython",
    "version": 3
   },
   "file_extension": ".py",
   "mimetype": "text/x-python",
   "name": "python",
   "nbconvert_exporter": "python",
   "pygments_lexer": "ipython3",
   "version": "3.9.1"
  },
  "orig_nbformat": 2,
  "kernelspec": {
   "name": "pythonjvsc74a57bd011ad6c238301872052010cc82dbf7698f6373f378366d880c52493d75d3c8c50",
   "display_name": "Python 3.9.1  ('venv-webscraping-3.9': venv)"
  },
  "metadata": {
   "interpreter": {
    "hash": "11ad6c238301872052010cc82dbf7698f6373f378366d880c52493d75d3c8c50"
   }
  }
 },
 "nbformat": 4,
 "nbformat_minor": 2,
 "cells": [
  {
   "source": [
    "# Downloading And Scraping The Contents Of A Web Page"
   ],
   "cell_type": "markdown",
   "metadata": {}
  },
  {
   "cell_type": "code",
   "execution_count": 14,
   "metadata": {},
   "outputs": [],
   "source": [
    "# import needed packages\n",
    "import pandas as pd \n",
    "import requests\n",
    "from bs4 import BeautifulSoup"
   ]
  },
  {
   "source": [
    "## 1. Scraping content of a webpage"
   ],
   "cell_type": "markdown",
   "metadata": {}
  },
  {
   "cell_type": "code",
   "execution_count": 15,
   "metadata": {},
   "outputs": [],
   "source": [
    "# Download the contents of the web page\n",
    "url = 'https://hang.kaijanaho.fi/'"
   ]
  },
  {
   "cell_type": "code",
   "execution_count": 16,
   "metadata": {},
   "outputs": [],
   "source": [
    "# Use get to download the contents of the webpage in text format and store in a variable called data\n",
    "data = requests.get(url).text"
   ]
  },
  {
   "cell_type": "code",
   "execution_count": 17,
   "metadata": {},
   "outputs": [],
   "source": [
    "# create a beautiful soup\n",
    "soup = BeautifulSoup(data,'html.parser')"
   ]
  },
  {
   "cell_type": "code",
   "execution_count": 18,
   "metadata": {},
   "outputs": [
    {
     "output_type": "stream",
     "name": "stdout",
     "text": [
      "#content\nhttp://hang.kaijanaho.fi\nhttps://hang.kaijanaho.fi/?page_id=31\nhttps://hang.kaijanaho.fi/?cat=7\nhttps://hang.kaijanaho.fi/?cat=36\nhttps://hang.kaijanaho.fi/?cat=11\nhttps://hang.kaijanaho.fi/?cat=38\nhttps://hang.kaijanaho.fi/?cat=39\nhttps://hang.kaijanaho.fi/?cat=22\nhttps://hang.kaijanaho.fi/?page_id=104\nhttps://www.facebook.com/ms.hangnguyen\nhttps://www.instagram.com/ms.hangnguyen/\nhttps://twitter.com/hangnguyen81\nhttps://www.youtube.com/user/hangntt/videos\nhttps://youpic.com/HannaKaijanaho\nhttps://hang.kaijanaho.fi/\nhttps://hang.kaijanaho.fi/?p=226\nhttps://hang.kaijanaho.fi/?p=226\nhttps://hang.kaijanaho.fi/?p=220\nhttps://hang.kaijanaho.fi/?p=220\nhttps://hang.kaijanaho.fi/?p=189\nhttps://hang.kaijanaho.fi/?p=189\nhttps://hang.kaijanaho.fi/?p=117\nhttps://hang.kaijanaho.fi/?p=117\nhttps://hang.kaijanaho.fi/?cat=35\nhttps://hang.kaijanaho.fi/?cat=36\nhttps://hang.kaijanaho.fi/?p=226\nhttps://hang.kaijanaho.fi/?p=226\nhttps://hang.kaijanaho.fi/?p=226\nhttps://hang.kaijanaho.fi/?cat=22\nhttps://hang.kaijanaho.fi/?p=220\nhttps://hang.kaijanaho.fi/?p=220\nhttps://hang.kaijanaho.fi/?p=220\nhttps://hang.kaijanaho.fi/?cat=22\nhttps://hang.kaijanaho.fi/?p=189\nhttps://hang.kaijanaho.fi/?p=189\nhttps://hang.kaijanaho.fi/?p=189\nhttps://hang.kaijanaho.fi/?cat=7\nhttps://hang.kaijanaho.fi/?cat=15\nhttps://hang.kaijanaho.fi/?p=117\nhttps://hang.kaijanaho.fi/?p=117\nhttps://hang.kaijanaho.fi/?p=117\nhttps://hang.kaijanaho.fi/?cat=7\nhttps://hang.kaijanaho.fi/?cat=38\nhttps://hang.kaijanaho.fi/?cat=11\nhttps://hang.kaijanaho.fi/?p=91\nhttps://hang.kaijanaho.fi/?p=91\nhttps://hang.kaijanaho.fi/?paged=2\nhttps://www.instagram.com/hanna.kaijanaho\nhttps://www.instagram.com/p/CBBiAFJBAvF/\nhttps://www.instagram.com/p/By_EXq9h_m_/\nhttps://www.instagram.com/p/BtTLYzkBbW4/\nhttps://www.instagram.com/p/BqSZ7VEhtGX/\nhttps://www.instagram.com/p/Bpog4RmBo6z/\nhttps://www.instagram.com/p/BpZd2OZAUMd/\nhttps://www.instagram.com/p/BpYvZukgmMV/\nhttps://www.instagram.com/p/BpU_s3GAInT/\nhttps://www.instagram.com/p/Bo69ITrAUVM/\nhttps://www.instagram.com/p/Boy4MyJgtHz/\nhttps://www.instagram.com/p/BocbiMcAza1/\nhttps://www.instagram.com/p/BoTD8T0AU30/\nhttps://www.instagram.com/hanna.kaijanaho\nhttps://hang.kaijanaho.fi/?p=226\nhttps://hang.kaijanaho.fi/?p=220\nhttps://hang.kaijanaho.fi/?p=189\nhttps://hang.kaijanaho.fi/?p=117\nhttps://hang.kaijanaho.fi/?p=91\nhttps://hang.kaijanaho.fi/?cat=35\nhttps://hang.kaijanaho.fi/?cat=7\nhttps://hang.kaijanaho.fi/?cat=15\nhttps://hang.kaijanaho.fi/?cat=38\nhttps://hang.kaijanaho.fi/?cat=36\nhttps://hang.kaijanaho.fi/?cat=39\nhttps://hang.kaijanaho.fi/?cat=11\nhttps://hang.kaijanaho.fi/?cat=22\nhttps://hang.kaijanaho.fi/?tag=copenhagen\nhttps://hang.kaijanaho.fi/?tag=daily-life\nhttps://hang.kaijanaho.fi/?tag=denmark\nhttps://hang.kaijanaho.fi/?tag=english\nhttps://hang.kaijanaho.fi/?tag=family\nhttps://hang.kaijanaho.fi/?tag=finland\nhttps://hang.kaijanaho.fi/?tag=flowers\nhttps://hang.kaijanaho.fi/?tag=food\nhttps://hang.kaijanaho.fi/?tag=food-photography\nhttps://hang.kaijanaho.fi/?tag=jyvaskyla\nhttps://hang.kaijanaho.fi/?tag=nordic\nhttps://hang.kaijanaho.fi/?tag=photography\nhttps://hang.kaijanaho.fi/?tag=phan-lan\nhttps://hang.kaijanaho.fi/?tag=seasons\nhttps://hang.kaijanaho.fi/?tag=spring\nhttps://hang.kaijanaho.fi/?tag=travel\nhttps://hang.kaijanaho.fi/?tag=vietnamese\nhttps://hang.kaijanaho.fi/?tag=xuan\nhttp://hang.kaijanaho.fi\nhttps://hang.kaijanaho.fi/?page_id=31\nhttps://hang.kaijanaho.fi/?cat=7\nhttps://hang.kaijanaho.fi/?cat=36\nhttps://hang.kaijanaho.fi/?cat=11\nhttps://hang.kaijanaho.fi/?cat=38\nhttps://hang.kaijanaho.fi/?cat=39\nhttps://hang.kaijanaho.fi/?cat=22\nhttps://hang.kaijanaho.fi/?page_id=104\nhttp://antti-juhani.kaijanaho.fi/newblog/\nhttps://trangvivi.wordpress.com\nhttps://blognhatitun.com\nhttp://creativecommons.org/licenses/by-nc-nd/4.0/\nhttp://creativecommons.org/licenses/by-nc-nd/4.0/\nhttps://hang.kaijanaho.fi/?m=201808\nhttps://hang.kaijanaho.fi/?m=201807\nhttps://hang.kaijanaho.fi/?m=201806\nhttps://hang.kaijanaho.fi/?m=201805\nhttp://wordpress.org/\nhttps://alienwp.com/\n"
     ]
    }
   ],
   "source": [
    "#Scraping all links\n",
    "for link in soup.find_all('a',href=True):  \n",
    "    print(link.get('href'))"
   ]
  },
  {
   "cell_type": "code",
   "execution_count": 19,
   "metadata": {},
   "outputs": [
    {
     "output_type": "stream",
     "name": "stdout",
     "text": [
      "<img alt=\"\" height=\"50\" src=\"https://scontent.cdninstagram.com/v/t51.2885-19/s150x150/35280256_224372838151765_6592363118154743808_n.jpg?_nc_ht=scontent.cdninstagram.com&amp;_nc_ohc=8y3jCaoPrp4AX9A93oY&amp;oh=d2585664ab1e3882a20962184820ed39&amp;oe=5F24F0F3\" width=\"50\"/>\nhttps://scontent.cdninstagram.com/v/t51.2885-19/s150x150/35280256_224372838151765_6592363118154743808_n.jpg?_nc_ht=scontent.cdninstagram.com&_nc_ohc=8y3jCaoPrp4AX9A93oY&oh=d2585664ab1e3882a20962184820ed39&oe=5F24F0F3\n<img alt=\"Apple flowers 🙂\" height=\"200\" src=\"https://hang.kaijanaho.fi/wp-content/plugins/instagram-feed/img/placeholder.png\" width=\"200\"/>\nhttps://hang.kaijanaho.fi/wp-content/plugins/instagram-feed/img/placeholder.png\n<img alt=\"Hyvää juhanusta 😊🤗\" height=\"200\" src=\"https://hang.kaijanaho.fi/wp-content/plugins/instagram-feed/img/placeholder.png\" width=\"200\"/>\nhttps://hang.kaijanaho.fi/wp-content/plugins/instagram-feed/img/placeholder.png\n<img alt=\"Land of snow❄️Jyväskylä, Finland\n.\n.\n.\n#visitfinland #visitjyvaskyla #2019 #winter2019\" height=\"200\" src=\"https://hang.kaijanaho.fi/wp-content/plugins/instagram-feed/img/placeholder.png\" width=\"200\"/>\nhttps://hang.kaijanaho.fi/wp-content/plugins/instagram-feed/img/placeholder.png\n<img alt=\"I was back to Tampere last week. It’s still lovely place like I remember 😍 The branches of tree in sunset sky 😘\" height=\"200\" src=\"https://hang.kaijanaho.fi/wp-content/plugins/instagram-feed/img/placeholder.png\" width=\"200\"/>\nhttps://hang.kaijanaho.fi/wp-content/plugins/instagram-feed/img/placeholder.png\n<img alt=\"#throwbackthursday in autumn 🍂 \nWell-done Jyväskylä and Finland 🇫🇮 This is a beautiful sign put along nice path around Jyväs lake. It belongs to a project aiming to encourage people do more workout outdoor by adding fitness points and equipment along walk route 😀\" height=\"200\" src=\"https://hang.kaijanaho.fi/wp-content/plugins/instagram-feed/img/placeholder.png\" width=\"200\"/>\nhttps://hang.kaijanaho.fi/wp-content/plugins/instagram-feed/img/placeholder.png\n<img alt=\"Melting snow 😊 and pure beauty of snow ice.\" height=\"200\" src=\"https://hang.kaijanaho.fi/wp-content/plugins/instagram-feed/img/placeholder.png\" width=\"200\"/>\nhttps://hang.kaijanaho.fi/wp-content/plugins/instagram-feed/img/placeholder.png\n<img alt=\"First snow ❄️ and winter is coming 😀 I was excited when seeing flying snow ❄️ in the sky. How about you? 😉\" height=\"200\" src=\"https://hang.kaijanaho.fi/wp-content/plugins/instagram-feed/img/placeholder.png\" width=\"200\"/>\nhttps://hang.kaijanaho.fi/wp-content/plugins/instagram-feed/img/placeholder.png\n<img alt=\"Sunset in late autumn 🍂\n.\n.\n.\n#ainolanranta #jyvaskyla #jyväskylä #finland #suomi\" height=\"200\" src=\"https://hang.kaijanaho.fi/wp-content/plugins/instagram-feed/img/placeholder.png\" width=\"200\"/>\nhttps://hang.kaijanaho.fi/wp-content/plugins/instagram-feed/img/placeholder.png\n<img alt=\"Amazing lake view 🍂 Jyväs lake in golden autumn 🍁\" height=\"200\" src=\"https://hang.kaijanaho.fi/wp-content/plugins/instagram-feed/img/placeholder.png\" width=\"200\"/>\nhttps://hang.kaijanaho.fi/wp-content/plugins/instagram-feed/img/placeholder.png\n<img alt=\"Very calmly morning landscape! View from Kuokkala bridge. It was a bit cloudy but still beautiful and peaceful 😀\" height=\"200\" src=\"https://hang.kaijanaho.fi/wp-content/plugins/instagram-feed/img/placeholder.png\" width=\"200\"/>\nhttps://hang.kaijanaho.fi/wp-content/plugins/instagram-feed/img/placeholder.png\n<img alt=\"Miss Autumn 🍂😊\" height=\"200\" src=\"https://hang.kaijanaho.fi/wp-content/plugins/instagram-feed/img/placeholder.png\" width=\"200\"/>\nhttps://hang.kaijanaho.fi/wp-content/plugins/instagram-feed/img/placeholder.png\n<img alt=\"Lavender in early autumn morning 😊\" height=\"200\" src=\"https://hang.kaijanaho.fi/wp-content/plugins/instagram-feed/img/placeholder.png\" width=\"200\"/>\nhttps://hang.kaijanaho.fi/wp-content/plugins/instagram-feed/img/placeholder.png\n<img alt=\"Creative Commons License\" src=\"https://i.creativecommons.org/l/by-nc-nd/4.0/88x31.png\" style=\"border-width:0\"/>\nhttps://i.creativecommons.org/l/by-nc-nd/4.0/88x31.png\n"
     ]
    }
   ],
   "source": [
    "# Scrape all images Tags\n",
    "for link in soup.find_all('img'):\n",
    "    print(link)\n",
    "    print(link.get('src'))"
   ]
  },
  {
   "source": [
    "## 2. Scrape data from HTML tables"
   ],
   "cell_type": "markdown",
   "metadata": {}
  },
  {
   "cell_type": "code",
   "execution_count": 20,
   "metadata": {},
   "outputs": [],
   "source": [
    "# Partital List of HTML5 Supported Colors: https://cf-courses-data.s3.us.cloud-object-storage.appdomain.cloud/IBM-DA0321EN-SkillsNetwork/labs/datasets/HTMLColorCodes.html\n",
    "\n",
    "url = 'https://cf-courses-data.s3.us.cloud-object-storage.appdomain.cloud/IBM-DA0321EN-SkillsNetwork/labs/datasets/HTMLColorCodes.html'\n",
    "table_data = requests.get(url).text\n",
    "soup =  BeautifulSoup(table_data,'html.parser')"
   ]
  },
  {
   "cell_type": "code",
   "execution_count": 21,
   "metadata": {},
   "outputs": [],
   "source": [
    "#find a html table in the web page\n",
    "table = soup.find('table')"
   ]
  },
  {
   "cell_type": "code",
   "execution_count": 22,
   "metadata": {},
   "outputs": [
    {
     "output_type": "stream",
     "name": "stdout",
     "text": [
      "Color Name--->None\nlightsalmon--->#FFA07A\nsalmon--->#FA8072\ndarksalmon--->#E9967A\nlightcoral--->#F08080\ncoral--->#FF7F50\ntomato--->#FF6347\norangered--->#FF4500\ngold--->#FFD700\norange--->#FFA500\ndarkorange--->#FF8C00\nlightyellow--->#FFFFE0\nlemonchiffon--->#FFFACD\npapayawhip--->#FFEFD5\nmoccasin--->#FFE4B5\npeachpuff--->#FFDAB9\npalegoldenrod--->#EEE8AA\nkhaki--->#F0E68C\ndarkkhaki--->#BDB76B\nyellow--->#FFFF00\nlawngreen--->#7CFC00\nchartreuse--->#7FFF00\nlimegreen--->#32CD32\nlime--->#00FF00\nforestgreen--->#228B22\ngreen--->#008000\npowderblue--->#B0E0E6\nlightblue--->#ADD8E6\nlightskyblue--->#87CEFA\nskyblue--->#87CEEB\ndeepskyblue--->#00BFFF\nlightsteelblue--->#B0C4DE\ndodgerblue--->#1E90FF\n"
     ]
    }
   ],
   "source": [
    "#Get all rows from the table\n",
    "for row in table.find_all('tr'): # in html table row is represented by the tag <tr>\n",
    "    # Get all columns in each row.\n",
    "    cols = row.find_all('td') # in html a column is represented by the tag <td>\n",
    "    color_name = cols[2].string # store the value in column 3 as color_name\n",
    "    color_code = cols[3].string # store the value in column 4 as color_code\n",
    "    print(\"{}--->{}\".format(color_name,color_code))"
   ]
  },
  {
   "source": [
    "## 3.Scrape data from HTML tables into a DataFrame using BeautifulSoup and Pandas"
   ],
   "cell_type": "markdown",
   "metadata": {}
  },
  {
   "cell_type": "code",
   "execution_count": 23,
   "metadata": {},
   "outputs": [],
   "source": [
    "#The below url contains html tables with data about world population.\n",
    "url = \"https://en.wikipedia.org/wiki/World_population\"\n",
    "data_wp = requests.get(url).text\n",
    "soup = BeautifulSoup(data_wp,'html.parser')"
   ]
  },
  {
   "cell_type": "code",
   "execution_count": 24,
   "metadata": {},
   "outputs": [],
   "source": [
    "#find all html tables in the web page\n",
    "tables = soup.find_all('table')"
   ]
  },
  {
   "cell_type": "code",
   "execution_count": 25,
   "metadata": {},
   "outputs": [
    {
     "output_type": "execute_result",
     "data": {
      "text/plain": [
       "26"
      ]
     },
     "metadata": {},
     "execution_count": 25
    }
   ],
   "source": [
    "#How many tables were found by checking the length of the tables list\n",
    "len(tables)"
   ]
  },
  {
   "cell_type": "code",
   "execution_count": 26,
   "metadata": {},
   "outputs": [
    {
     "output_type": "stream",
     "name": "stdout",
     "text": [
      "5\n"
     ]
    }
   ],
   "source": [
    "# Assume that we are looking for the 10 most densly populated countries table, we can look through the tables list and find the right one we are look for based on the data in each table or we can search for the table name if it is in the table but this option might not always work\n",
    "for index,table in enumerate(tables):\n",
    "    if (\"10 most densely populated countries\" in str(table)):\n",
    "        table_index = index\n",
    "print(table_index)"
   ]
  },
  {
   "cell_type": "code",
   "execution_count": 27,
   "metadata": {},
   "outputs": [
    {
     "output_type": "stream",
     "name": "stdout",
     "text": [
      "<table class=\"wikitable sortable\" style=\"text-align:right\">\n <caption>\n  10 most densely populated countries\n  <small>\n   (with population above 5 million)\n  </small>\n </caption>\n <tbody>\n  <tr>\n   <th>\n    Rank\n   </th>\n   <th>\n    Country\n   </th>\n   <th>\n    Population\n   </th>\n   <th>\n    Area\n    <br/>\n    <small>\n     (km\n     <sup>\n      2\n     </sup>\n     )\n    </small>\n   </th>\n   <th>\n    Density\n    <br/>\n    <small>\n     (pop/km\n     <sup>\n      2\n     </sup>\n     )\n    </small>\n   </th>\n  </tr>\n  <tr>\n   <td>\n    1\n   </td>\n   <td align=\"left\">\n    <span class=\"flagicon\">\n     <img alt=\"\" class=\"thumbborder\" data-file-height=\"2880\" data-file-width=\"4320\" decoding=\"async\" height=\"15\" src=\"//upload.wikimedia.org/wikipedia/commons/thumb/4/48/Flag_of_Singapore.svg/23px-Flag_of_Singapore.svg.png\" srcset=\"//upload.wikimedia.org/wikipedia/commons/thumb/4/48/Flag_of_Singapore.svg/35px-Flag_of_Singapore.svg.png 1.5x, //upload.wikimedia.org/wikipedia/commons/thumb/4/48/Flag_of_Singapore.svg/45px-Flag_of_Singapore.svg.png 2x\" width=\"23\"/>\n    </span>\n    <a href=\"/wiki/Singapore\" title=\"Singapore\">\n     Singapore\n    </a>\n   </td>\n   <td>\n    5,704,000\n   </td>\n   <td>\n    710\n   </td>\n   <td>\n    8,033\n   </td>\n  </tr>\n  <tr>\n   <td>\n    2\n   </td>\n   <td align=\"left\">\n    <span class=\"flagicon\">\n     <img alt=\"\" class=\"thumbborder\" data-file-height=\"600\" data-file-width=\"1000\" decoding=\"async\" height=\"14\" src=\"//upload.wikimedia.org/wikipedia/commons/thumb/f/f9/Flag_of_Bangladesh.svg/23px-Flag_of_Bangladesh.svg.png\" srcset=\"//upload.wikimedia.org/wikipedia/commons/thumb/f/f9/Flag_of_Bangladesh.svg/35px-Flag_of_Bangladesh.svg.png 1.5x, //upload.wikimedia.org/wikipedia/commons/thumb/f/f9/Flag_of_Bangladesh.svg/46px-Flag_of_Bangladesh.svg.png 2x\" width=\"23\"/>\n    </span>\n    <a href=\"/wiki/Bangladesh\" title=\"Bangladesh\">\n     Bangladesh\n    </a>\n   </td>\n   <td>\n    170,440,000\n   </td>\n   <td>\n    143,998\n   </td>\n   <td>\n    1,184\n   </td>\n  </tr>\n  <tr>\n   <td>\n    3\n   </td>\n   <td align=\"left\">\n    <span class=\"flagicon\">\n     <img alt=\"\" class=\"thumbborder\" data-file-height=\"600\" data-file-width=\"900\" decoding=\"async\" height=\"15\" src=\"//upload.wikimedia.org/wikipedia/commons/thumb/5/59/Flag_of_Lebanon.svg/23px-Flag_of_Lebanon.svg.png\" srcset=\"//upload.wikimedia.org/wikipedia/commons/thumb/5/59/Flag_of_Lebanon.svg/35px-Flag_of_Lebanon.svg.png 1.5x, //upload.wikimedia.org/wikipedia/commons/thumb/5/59/Flag_of_Lebanon.svg/45px-Flag_of_Lebanon.svg.png 2x\" width=\"23\"/>\n    </span>\n    <a href=\"/wiki/Lebanon\" title=\"Lebanon\">\n     Lebanon\n    </a>\n   </td>\n   <td>\n    6,856,000\n   </td>\n   <td>\n    10,452\n   </td>\n   <td>\n    656\n   </td>\n  </tr>\n  <tr>\n   <td>\n    4\n   </td>\n   <td align=\"left\">\n    <span class=\"flagicon\">\n     <img alt=\"\" class=\"thumbborder\" data-file-height=\"600\" data-file-width=\"900\" decoding=\"async\" height=\"15\" src=\"//upload.wikimedia.org/wikipedia/commons/thumb/7/72/Flag_of_the_Republic_of_China.svg/23px-Flag_of_the_Republic_of_China.svg.png\" srcset=\"//upload.wikimedia.org/wikipedia/commons/thumb/7/72/Flag_of_the_Republic_of_China.svg/35px-Flag_of_the_Republic_of_China.svg.png 1.5x, //upload.wikimedia.org/wikipedia/commons/thumb/7/72/Flag_of_the_Republic_of_China.svg/45px-Flag_of_the_Republic_of_China.svg.png 2x\" width=\"23\"/>\n    </span>\n    <a href=\"/wiki/Taiwan\" title=\"Taiwan\">\n     Taiwan\n    </a>\n   </td>\n   <td>\n    23,604,000\n   </td>\n   <td>\n    36,193\n   </td>\n   <td>\n    652\n   </td>\n  </tr>\n  <tr>\n   <td>\n    5\n   </td>\n   <td align=\"left\">\n    <span class=\"flagicon\">\n     <img alt=\"\" class=\"thumbborder\" data-file-height=\"600\" data-file-width=\"900\" decoding=\"async\" height=\"15\" src=\"//upload.wikimedia.org/wikipedia/commons/thumb/0/09/Flag_of_South_Korea.svg/23px-Flag_of_South_Korea.svg.png\" srcset=\"//upload.wikimedia.org/wikipedia/commons/thumb/0/09/Flag_of_South_Korea.svg/35px-Flag_of_South_Korea.svg.png 1.5x, //upload.wikimedia.org/wikipedia/commons/thumb/0/09/Flag_of_South_Korea.svg/45px-Flag_of_South_Korea.svg.png 2x\" width=\"23\"/>\n    </span>\n    <a href=\"/wiki/South_Korea\" title=\"South Korea\">\n     South Korea\n    </a>\n   </td>\n   <td>\n    51,781,000\n   </td>\n   <td>\n    99,538\n   </td>\n   <td>\n    520\n   </td>\n  </tr>\n  <tr>\n   <td>\n    6\n   </td>\n   <td align=\"left\">\n    <span class=\"flagicon\">\n     <img alt=\"\" class=\"thumbborder\" data-file-height=\"720\" data-file-width=\"1080\" decoding=\"async\" height=\"15\" src=\"//upload.wikimedia.org/wikipedia/commons/thumb/1/17/Flag_of_Rwanda.svg/23px-Flag_of_Rwanda.svg.png\" srcset=\"//upload.wikimedia.org/wikipedia/commons/thumb/1/17/Flag_of_Rwanda.svg/35px-Flag_of_Rwanda.svg.png 1.5x, //upload.wikimedia.org/wikipedia/commons/thumb/1/17/Flag_of_Rwanda.svg/45px-Flag_of_Rwanda.svg.png 2x\" width=\"23\"/>\n    </span>\n    <a href=\"/wiki/Rwanda\" title=\"Rwanda\">\n     Rwanda\n    </a>\n   </td>\n   <td>\n    12,374,000\n   </td>\n   <td>\n    26,338\n   </td>\n   <td>\n    470\n   </td>\n  </tr>\n  <tr>\n   <td>\n    7\n   </td>\n   <td align=\"left\">\n    <span class=\"flagicon\">\n     <img alt=\"\" class=\"thumbborder\" data-file-height=\"600\" data-file-width=\"1000\" decoding=\"async\" height=\"14\" src=\"//upload.wikimedia.org/wikipedia/commons/thumb/5/56/Flag_of_Haiti.svg/23px-Flag_of_Haiti.svg.png\" srcset=\"//upload.wikimedia.org/wikipedia/commons/thumb/5/56/Flag_of_Haiti.svg/35px-Flag_of_Haiti.svg.png 1.5x, //upload.wikimedia.org/wikipedia/commons/thumb/5/56/Flag_of_Haiti.svg/46px-Flag_of_Haiti.svg.png 2x\" width=\"23\"/>\n    </span>\n    <a href=\"/wiki/Haiti\" title=\"Haiti\">\n     Haiti\n    </a>\n   </td>\n   <td>\n    11,578,000\n   </td>\n   <td>\n    27,065\n   </td>\n   <td>\n    428\n   </td>\n  </tr>\n  <tr>\n   <td>\n    8\n   </td>\n   <td align=\"left\">\n    <span class=\"flagicon\">\n     <img alt=\"\" class=\"thumbborder\" data-file-height=\"600\" data-file-width=\"900\" decoding=\"async\" height=\"15\" src=\"//upload.wikimedia.org/wikipedia/commons/thumb/2/20/Flag_of_the_Netherlands.svg/23px-Flag_of_the_Netherlands.svg.png\" srcset=\"//upload.wikimedia.org/wikipedia/commons/thumb/2/20/Flag_of_the_Netherlands.svg/35px-Flag_of_the_Netherlands.svg.png 1.5x, //upload.wikimedia.org/wikipedia/commons/thumb/2/20/Flag_of_the_Netherlands.svg/45px-Flag_of_the_Netherlands.svg.png 2x\" width=\"23\"/>\n    </span>\n    <a href=\"/wiki/Netherlands\" title=\"Netherlands\">\n     Netherlands\n    </a>\n   </td>\n   <td>\n    17,580,000\n   </td>\n   <td>\n    41,526\n   </td>\n   <td>\n    423\n   </td>\n  </tr>\n  <tr>\n   <td>\n    9\n   </td>\n   <td align=\"left\">\n    <span class=\"flagicon\">\n     <img alt=\"\" class=\"thumbborder\" data-file-height=\"800\" data-file-width=\"1100\" decoding=\"async\" height=\"15\" src=\"//upload.wikimedia.org/wikipedia/commons/thumb/d/d4/Flag_of_Israel.svg/21px-Flag_of_Israel.svg.png\" srcset=\"//upload.wikimedia.org/wikipedia/commons/thumb/d/d4/Flag_of_Israel.svg/32px-Flag_of_Israel.svg.png 1.5x, //upload.wikimedia.org/wikipedia/commons/thumb/d/d4/Flag_of_Israel.svg/41px-Flag_of_Israel.svg.png 2x\" width=\"21\"/>\n    </span>\n    <a href=\"/wiki/Israel\" title=\"Israel\">\n     Israel\n    </a>\n   </td>\n   <td>\n    9,330,000\n   </td>\n   <td>\n    22,072\n   </td>\n   <td>\n    423\n   </td>\n  </tr>\n  <tr>\n   <td>\n    10\n   </td>\n   <td align=\"left\">\n    <span class=\"flagicon\">\n     <img alt=\"\" class=\"thumbborder\" data-file-height=\"900\" data-file-width=\"1350\" decoding=\"async\" height=\"15\" src=\"//upload.wikimedia.org/wikipedia/en/thumb/4/41/Flag_of_India.svg/23px-Flag_of_India.svg.png\" srcset=\"//upload.wikimedia.org/wikipedia/en/thumb/4/41/Flag_of_India.svg/35px-Flag_of_India.svg.png 1.5x, //upload.wikimedia.org/wikipedia/en/thumb/4/41/Flag_of_India.svg/45px-Flag_of_India.svg.png 2x\" width=\"23\"/>\n    </span>\n    <a href=\"/wiki/India\" title=\"India\">\n     India\n    </a>\n   </td>\n   <td>\n    1,375,350,000\n   </td>\n   <td>\n    3,287,240\n   </td>\n   <td>\n    418\n   </td>\n  </tr>\n </tbody>\n</table>\n\n"
     ]
    }
   ],
   "source": [
    "#Locate the table name of the table, 10 most densly populated countries, check its structure\n",
    "print(tables[table_index].prettify())"
   ]
  },
  {
   "cell_type": "code",
   "execution_count": 28,
   "metadata": {},
   "outputs": [
    {
     "output_type": "execute_result",
     "data": {
      "text/plain": [
       "  Rank       Country     Population       Area Density\n",
       "0    1     Singapore      5,704,000        710   8,033\n",
       "1    2    Bangladesh    170,440,000    143,998   1,184\n",
       "2    3       Lebanon      6,856,000     10,452     656\n",
       "3    4        Taiwan     23,604,000     36,193     652\n",
       "4    5   South Korea     51,781,000     99,538     520\n",
       "5    6        Rwanda     12,374,000     26,338     470\n",
       "6    7         Haiti     11,578,000     27,065     428\n",
       "7    8   Netherlands     17,580,000     41,526     423\n",
       "8    9        Israel      9,330,000     22,072     423\n",
       "9   10         India  1,375,350,000  3,287,240     418"
      ],
      "text/html": "<div>\n<style scoped>\n    .dataframe tbody tr th:only-of-type {\n        vertical-align: middle;\n    }\n\n    .dataframe tbody tr th {\n        vertical-align: top;\n    }\n\n    .dataframe thead th {\n        text-align: right;\n    }\n</style>\n<table border=\"1\" class=\"dataframe\">\n  <thead>\n    <tr style=\"text-align: right;\">\n      <th></th>\n      <th>Rank</th>\n      <th>Country</th>\n      <th>Population</th>\n      <th>Area</th>\n      <th>Density</th>\n    </tr>\n  </thead>\n  <tbody>\n    <tr>\n      <th>0</th>\n      <td>1</td>\n      <td>Singapore</td>\n      <td>5,704,000</td>\n      <td>710</td>\n      <td>8,033</td>\n    </tr>\n    <tr>\n      <th>1</th>\n      <td>2</td>\n      <td>Bangladesh</td>\n      <td>170,440,000</td>\n      <td>143,998</td>\n      <td>1,184</td>\n    </tr>\n    <tr>\n      <th>2</th>\n      <td>3</td>\n      <td>Lebanon</td>\n      <td>6,856,000</td>\n      <td>10,452</td>\n      <td>656</td>\n    </tr>\n    <tr>\n      <th>3</th>\n      <td>4</td>\n      <td>Taiwan</td>\n      <td>23,604,000</td>\n      <td>36,193</td>\n      <td>652</td>\n    </tr>\n    <tr>\n      <th>4</th>\n      <td>5</td>\n      <td>South Korea</td>\n      <td>51,781,000</td>\n      <td>99,538</td>\n      <td>520</td>\n    </tr>\n    <tr>\n      <th>5</th>\n      <td>6</td>\n      <td>Rwanda</td>\n      <td>12,374,000</td>\n      <td>26,338</td>\n      <td>470</td>\n    </tr>\n    <tr>\n      <th>6</th>\n      <td>7</td>\n      <td>Haiti</td>\n      <td>11,578,000</td>\n      <td>27,065</td>\n      <td>428</td>\n    </tr>\n    <tr>\n      <th>7</th>\n      <td>8</td>\n      <td>Netherlands</td>\n      <td>17,580,000</td>\n      <td>41,526</td>\n      <td>423</td>\n    </tr>\n    <tr>\n      <th>8</th>\n      <td>9</td>\n      <td>Israel</td>\n      <td>9,330,000</td>\n      <td>22,072</td>\n      <td>423</td>\n    </tr>\n    <tr>\n      <th>9</th>\n      <td>10</td>\n      <td>India</td>\n      <td>1,375,350,000</td>\n      <td>3,287,240</td>\n      <td>418</td>\n    </tr>\n  </tbody>\n</table>\n</div>"
     },
     "metadata": {},
     "execution_count": 28
    }
   ],
   "source": [
    "#Scrape data from HTML tables into a DataFrame\n",
    "population_data = pd.DataFrame(columns=[\"Rank\", \"Country\", \"Population\", \"Area\", \"Density\"])\n",
    "\n",
    "for row in tables[table_index].tbody.find_all(\"tr\"):\n",
    "    col = row.find_all(\"td\")\n",
    "    if (col != []):\n",
    "        rank = col[0].text\n",
    "        country = col[1].text\n",
    "        population = col[2].text.strip()\n",
    "        area = col[3].text.strip()\n",
    "        density = col[4].text.strip()\n",
    "        population_data = population_data.append({\"Rank\":rank, \"Country\":country, \"Population\":population, \"Area\":area, \"Density\":density}, ignore_index=True)\n",
    "\n",
    "population_data"
   ]
  },
  {
   "source": [
    "## 4. Scrape data from HTML tables into a DataFrame using BeautifulSoup and read_html"
   ],
   "cell_type": "markdown",
   "metadata": {}
  },
  {
   "cell_type": "code",
   "execution_count": 29,
   "metadata": {},
   "outputs": [
    {
     "output_type": "execute_result",
     "data": {
      "text/plain": [
       "   Rank      Country  Population  Area(km2)  Density(pop/km2)\n",
       "0     1    Singapore     5704000        710              8033\n",
       "1     2   Bangladesh   170440000     143998              1184\n",
       "2     3      Lebanon     6856000      10452               656\n",
       "3     4       Taiwan    23604000      36193               652\n",
       "4     5  South Korea    51781000      99538               520\n",
       "5     6       Rwanda    12374000      26338               470\n",
       "6     7        Haiti    11578000      27065               428\n",
       "7     8  Netherlands    17580000      41526               423\n",
       "8     9       Israel     9330000      22072               423\n",
       "9    10        India  1375350000    3287240               418"
      ],
      "text/html": "<div>\n<style scoped>\n    .dataframe tbody tr th:only-of-type {\n        vertical-align: middle;\n    }\n\n    .dataframe tbody tr th {\n        vertical-align: top;\n    }\n\n    .dataframe thead th {\n        text-align: right;\n    }\n</style>\n<table border=\"1\" class=\"dataframe\">\n  <thead>\n    <tr style=\"text-align: right;\">\n      <th></th>\n      <th>Rank</th>\n      <th>Country</th>\n      <th>Population</th>\n      <th>Area(km2)</th>\n      <th>Density(pop/km2)</th>\n    </tr>\n  </thead>\n  <tbody>\n    <tr>\n      <th>0</th>\n      <td>1</td>\n      <td>Singapore</td>\n      <td>5704000</td>\n      <td>710</td>\n      <td>8033</td>\n    </tr>\n    <tr>\n      <th>1</th>\n      <td>2</td>\n      <td>Bangladesh</td>\n      <td>170440000</td>\n      <td>143998</td>\n      <td>1184</td>\n    </tr>\n    <tr>\n      <th>2</th>\n      <td>3</td>\n      <td>Lebanon</td>\n      <td>6856000</td>\n      <td>10452</td>\n      <td>656</td>\n    </tr>\n    <tr>\n      <th>3</th>\n      <td>4</td>\n      <td>Taiwan</td>\n      <td>23604000</td>\n      <td>36193</td>\n      <td>652</td>\n    </tr>\n    <tr>\n      <th>4</th>\n      <td>5</td>\n      <td>South Korea</td>\n      <td>51781000</td>\n      <td>99538</td>\n      <td>520</td>\n    </tr>\n    <tr>\n      <th>5</th>\n      <td>6</td>\n      <td>Rwanda</td>\n      <td>12374000</td>\n      <td>26338</td>\n      <td>470</td>\n    </tr>\n    <tr>\n      <th>6</th>\n      <td>7</td>\n      <td>Haiti</td>\n      <td>11578000</td>\n      <td>27065</td>\n      <td>428</td>\n    </tr>\n    <tr>\n      <th>7</th>\n      <td>8</td>\n      <td>Netherlands</td>\n      <td>17580000</td>\n      <td>41526</td>\n      <td>423</td>\n    </tr>\n    <tr>\n      <th>8</th>\n      <td>9</td>\n      <td>Israel</td>\n      <td>9330000</td>\n      <td>22072</td>\n      <td>423</td>\n    </tr>\n    <tr>\n      <th>9</th>\n      <td>10</td>\n      <td>India</td>\n      <td>1375350000</td>\n      <td>3287240</td>\n      <td>418</td>\n    </tr>\n  </tbody>\n</table>\n</div>"
     },
     "metadata": {},
     "execution_count": 29
    }
   ],
   "source": [
    "# Use the pandas function read_html and give it the string version of the table \n",
    "# The function read_html always returns a list of DataFrames so we must pick the one we want out of the list.\n",
    "population_data_top10 = pd.read_html(str(tables[table_index]))[0]\n",
    "population_data_top10"
   ]
  },
  {
   "source": [
    "## 5.Scrape data from HTML tables into a DataFrame using read_html"
   ],
   "cell_type": "markdown",
   "metadata": {}
  },
  {
   "cell_type": "code",
   "execution_count": 30,
   "metadata": {},
   "outputs": [
    {
     "output_type": "execute_result",
     "data": {
      "text/plain": [
       "26"
      ]
     },
     "metadata": {},
     "execution_count": 30
    }
   ],
   "source": [
    "# also use the read_html function to directly get DataFrames from a url.\n",
    "url = 'https://en.wikipedia.org/wiki/World_population'\n",
    "#list of dataframe from that url\n",
    "df_list = pd.read_html(url)\n",
    "#How many dataframes?\n",
    "len(df_list)"
   ]
  },
  {
   "cell_type": "code",
   "execution_count": 31,
   "metadata": {},
   "outputs": [
    {
     "output_type": "execute_result",
     "data": {
      "text/plain": [
       "   Rank      Country  Population  Area(km2)  Density(pop/km2)\n",
       "0     1    Singapore     5704000        710              8033\n",
       "1     2   Bangladesh   170440000     143998              1184\n",
       "2     3      Lebanon     6856000      10452               656\n",
       "3     4       Taiwan    23604000      36193               652\n",
       "4     5  South Korea    51781000      99538               520\n",
       "5     6       Rwanda    12374000      26338               470\n",
       "6     7        Haiti    11578000      27065               428\n",
       "7     8  Netherlands    17580000      41526               423\n",
       "8     9       Israel     9330000      22072               423\n",
       "9    10        India  1375350000    3287240               418"
      ],
      "text/html": "<div>\n<style scoped>\n    .dataframe tbody tr th:only-of-type {\n        vertical-align: middle;\n    }\n\n    .dataframe tbody tr th {\n        vertical-align: top;\n    }\n\n    .dataframe thead th {\n        text-align: right;\n    }\n</style>\n<table border=\"1\" class=\"dataframe\">\n  <thead>\n    <tr style=\"text-align: right;\">\n      <th></th>\n      <th>Rank</th>\n      <th>Country</th>\n      <th>Population</th>\n      <th>Area(km2)</th>\n      <th>Density(pop/km2)</th>\n    </tr>\n  </thead>\n  <tbody>\n    <tr>\n      <th>0</th>\n      <td>1</td>\n      <td>Singapore</td>\n      <td>5704000</td>\n      <td>710</td>\n      <td>8033</td>\n    </tr>\n    <tr>\n      <th>1</th>\n      <td>2</td>\n      <td>Bangladesh</td>\n      <td>170440000</td>\n      <td>143998</td>\n      <td>1184</td>\n    </tr>\n    <tr>\n      <th>2</th>\n      <td>3</td>\n      <td>Lebanon</td>\n      <td>6856000</td>\n      <td>10452</td>\n      <td>656</td>\n    </tr>\n    <tr>\n      <th>3</th>\n      <td>4</td>\n      <td>Taiwan</td>\n      <td>23604000</td>\n      <td>36193</td>\n      <td>652</td>\n    </tr>\n    <tr>\n      <th>4</th>\n      <td>5</td>\n      <td>South Korea</td>\n      <td>51781000</td>\n      <td>99538</td>\n      <td>520</td>\n    </tr>\n    <tr>\n      <th>5</th>\n      <td>6</td>\n      <td>Rwanda</td>\n      <td>12374000</td>\n      <td>26338</td>\n      <td>470</td>\n    </tr>\n    <tr>\n      <th>6</th>\n      <td>7</td>\n      <td>Haiti</td>\n      <td>11578000</td>\n      <td>27065</td>\n      <td>428</td>\n    </tr>\n    <tr>\n      <th>7</th>\n      <td>8</td>\n      <td>Netherlands</td>\n      <td>17580000</td>\n      <td>41526</td>\n      <td>423</td>\n    </tr>\n    <tr>\n      <th>8</th>\n      <td>9</td>\n      <td>Israel</td>\n      <td>9330000</td>\n      <td>22072</td>\n      <td>423</td>\n    </tr>\n    <tr>\n      <th>9</th>\n      <td>10</td>\n      <td>India</td>\n      <td>1375350000</td>\n      <td>3287240</td>\n      <td>418</td>\n    </tr>\n  </tbody>\n</table>\n</div>"
     },
     "metadata": {},
     "execution_count": 31
    }
   ],
   "source": [
    "df_list[5]"
   ]
  }
 ]
}